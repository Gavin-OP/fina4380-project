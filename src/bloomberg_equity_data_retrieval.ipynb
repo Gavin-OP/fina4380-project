{
 "cells": [
  {
   "cell_type": "code",
   "execution_count": 2,
   "metadata": {},
   "outputs": [],
   "source": [
    "import os\n",
    "import time\n",
    "import pandas as pd\n",
    "from xbbg import blp"
   ]
  },
  {
   "cell_type": "code",
   "execution_count": 4,
   "metadata": {},
   "outputs": [],
   "source": [
    "data_created_time = str(int(time.time()))\n",
    "os.mkdir(data_created_time)\n",
    "\n",
    "equity_ticker_list = pd.read_csv('equity_tickers.csv')\n",
    "fields = ['PX_LAST', 'PX_OPEN', 'PX_HIGH', 'PX_LOW', 'PX_VOLUME']\n",
    "start_date = '2020-01-01'\n",
    "end_date = '2020-12-31'\n",
    "frequency = 'D'"
   ]
  },
  {
   "cell_type": "code",
   "execution_count": null,
   "metadata": {},
   "outputs": [],
   "source": [
    "for ticker in equity_ticker_list['ticker']:\n",
    "    if equity_ticker_list['ticker'].tolist().index(ticker) % 50 == 0:\n",
    "        print(f\"{equity_ticker_list['ticker'].tolist().index(ticker)} / {len(equity_ticker_list['ticker'])} {ticker}\")\n",
    "\n",
    "    data = blp.bdh(ticker, fields, start_date, end_date, frequency)\n",
    "    data.to_csv(f\"{data_created_time}/{ticker}.csv\")"
   ]
  }
 ],
 "metadata": {
  "kernelspec": {
   "display_name": "Python 3",
   "language": "python",
   "name": "python3"
  },
  "language_info": {
   "codemirror_mode": {
    "name": "ipython",
    "version": 3
   },
   "file_extension": ".py",
   "mimetype": "text/x-python",
   "name": "python",
   "nbconvert_exporter": "python",
   "pygments_lexer": "ipython3",
   "version": "3.9.0"
  }
 },
 "nbformat": 4,
 "nbformat_minor": 2
}
