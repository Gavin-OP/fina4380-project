{
 "cells": [
  {
   "cell_type": "code",
   "execution_count": 2,
   "metadata": {},
   "outputs": [
    {
     "ename": "ModuleNotFoundError",
     "evalue": "No module named 'xbbg'",
     "output_type": "error",
     "traceback": [
      "\u001b[1;31m---------------------------------------------------------------------------\u001b[0m",
      "\u001b[1;31mModuleNotFoundError\u001b[0m                       Traceback (most recent call last)",
      "Cell \u001b[1;32mIn[2], line 6\u001b[0m\n\u001b[0;32m      2\u001b[0m \u001b[38;5;28;01mimport\u001b[39;00m \u001b[38;5;21;01mtime\u001b[39;00m\n\u001b[0;32m      4\u001b[0m \u001b[38;5;28;01mimport\u001b[39;00m \u001b[38;5;21;01mpandas\u001b[39;00m \u001b[38;5;28;01mas\u001b[39;00m \u001b[38;5;21;01mpd\u001b[39;00m\n\u001b[1;32m----> 6\u001b[0m \u001b[38;5;28;01mfrom\u001b[39;00m \u001b[38;5;21;01mxbbg\u001b[39;00m \u001b[38;5;28;01mimport\u001b[39;00m blp\n",
      "\u001b[1;31mModuleNotFoundError\u001b[0m: No module named 'xbbg'"
     ]
    }
   ],
   "source": [
    "import os\n",
    "import time\n",
    "\n",
    "import pandas as pd\n",
    "\n",
    "from xbbg import blp"
   ]
  },
  {
   "cell_type": "code",
   "execution_count": null,
   "metadata": {},
   "outputs": [],
   "source": [
    "data_created_time = str(int(time.time()))\n",
    "os.mkdir(data_created_time)\n",
    "\n",
    "equity_ticker_list = pd.read_csv('xxx.csv')\n",
    "fields = ['PX_LAST', 'PX_OPEN', 'PX_HIGH', 'PX_LOW', 'PX_VOLUME', 'PX_BID', 'PX_ASK', 'PX_MID', 'FUTURES_CHAIN']\n",
    "start_date = '2020-01-01'\n",
    "end_date = '2020-12-31'\n",
    "frequency = 'D'"
   ]
  },
  {
   "cell_type": "code",
   "execution_count": null,
   "metadata": {},
   "outputs": [],
   "source": [
    "for ticker in equity_ticker_list['ticker']:\n",
    "    if equity_ticker_list['ticker'].tolist().index(ticker) % 50 == 0:\n",
    "        print(f\"{equity_ticker_list['ticker'].tolist().index(ticker)} / {len(equity_ticker_list['ticker'])} {ticker}\")\n",
    "\n",
    "    data = blp.bdh(ticker, fields, start_date, end_date, frequency)\n",
    "    data.to_csv(f\"{data_created_time}/{ticker}.csv\")"
   ]
  }
 ],
 "metadata": {
  "kernelspec": {
   "display_name": "Python 3",
   "language": "python",
   "name": "python3"
  },
  "language_info": {
   "codemirror_mode": {
    "name": "ipython",
    "version": 3
   },
   "file_extension": ".py",
   "mimetype": "text/x-python",
   "name": "python",
   "nbconvert_exporter": "python",
   "pygments_lexer": "ipython3",
   "version": "3.9.0"
  }
 },
 "nbformat": 4,
 "nbformat_minor": 2
}
